{
 "cells": [
  {
   "cell_type": "code",
   "execution_count": 5,
   "metadata": {},
   "outputs": [],
   "source": [
    "#Импортируем основные библиотеки\n",
    "import pandas as pd\n",
    "import numpy as np\n",
    "\n",
    "%matplotlib inline\n",
    "import matplotlib.pyplot as plt\n",
    "import seaborn as sns\n",
    "import plotly.express as px\n",
    "\n",
    "from scipy import stats\n",
    "from scipy.stats import bootstrap, chi2_contingency\n",
    "import pingouin as pg"
   ]
  },
  {
   "cell_type": "markdown",
   "metadata": {},
   "source": [
    "Имеются результаты A/B теста, в котором двум группам пользователей предлагались различные наборы акционных предложений. Известно, что ARPU в тестовой группе выше на 5%, чем в контрольной. При этом в контрольной группе 1928 игроков из 202103 оказались платящими, а в тестовой – 1805 из 202667.\n",
    "\n",
    "Какой набор предложений можно считать лучшим? Какие метрики стоит проанализировать для принятия правильного решения и как?"
   ]
  },
  {
   "cell_type": "markdown",
   "metadata": {},
   "source": [
    "ARPU = Revenue / Users (чистый доход «поделить» на количество всех пользователей)"
   ]
  },
  {
   "cell_type": "code",
   "execution_count": 6,
   "metadata": {},
   "outputs": [],
   "source": [
    "AB_df = pd.read_csv('https://getfile.dokpub.com/yandex/get/https://disk.yandex.ru/d/SOkIsD5A8xlI7Q', sep = ';')"
   ]
  },
  {
   "cell_type": "markdown",
   "metadata": {},
   "source": [
    "# EDA"
   ]
  },
  {
   "cell_type": "code",
   "execution_count": 7,
   "metadata": {},
   "outputs": [
    {
     "data": {
      "text/plain": [
       "404770"
      ]
     },
     "execution_count": 7,
     "metadata": {},
     "output_type": "execute_result"
    }
   ],
   "source": [
    "#Количество строк в датафрейме\n",
    "AB_df.shape[0]"
   ]
  },
  {
   "cell_type": "code",
   "execution_count": 8,
   "metadata": {},
   "outputs": [
    {
     "data": {
      "text/plain": [
       "user_id       int64\n",
       "revenue       int64\n",
       "testgroup    object\n",
       "dtype: object"
      ]
     },
     "execution_count": 8,
     "metadata": {},
     "output_type": "execute_result"
    }
   ],
   "source": [
    "#Типы данных\n",
    "AB_df.dtypes"
   ]
  },
  {
   "cell_type": "code",
   "execution_count": 14,
   "metadata": {},
   "outputs": [
    {
     "data": {
      "text/plain": [
       "404770"
      ]
     },
     "execution_count": 14,
     "metadata": {},
     "output_type": "execute_result"
    }
   ],
   "source": [
    "#Число уникалтные пользователей\n",
    "AB_df.user_id.nunique()"
   ]
  },
  {
   "cell_type": "code",
   "execution_count": 15,
   "metadata": {},
   "outputs": [
    {
     "data": {
      "text/html": [
       "<div>\n",
       "<style scoped>\n",
       "    .dataframe tbody tr th:only-of-type {\n",
       "        vertical-align: middle;\n",
       "    }\n",
       "\n",
       "    .dataframe tbody tr th {\n",
       "        vertical-align: top;\n",
       "    }\n",
       "\n",
       "    .dataframe thead th {\n",
       "        text-align: right;\n",
       "    }\n",
       "</style>\n",
       "<table border=\"1\" class=\"dataframe\">\n",
       "  <thead>\n",
       "    <tr style=\"text-align: right;\">\n",
       "      <th></th>\n",
       "      <th>count</th>\n",
       "      <th>mean</th>\n",
       "      <th>std</th>\n",
       "      <th>min</th>\n",
       "      <th>25%</th>\n",
       "      <th>50%</th>\n",
       "      <th>75%</th>\n",
       "      <th>max</th>\n",
       "    </tr>\n",
       "    <tr>\n",
       "      <th>testgroup</th>\n",
       "      <th></th>\n",
       "      <th></th>\n",
       "      <th></th>\n",
       "      <th></th>\n",
       "      <th></th>\n",
       "      <th></th>\n",
       "      <th></th>\n",
       "      <th></th>\n",
       "    </tr>\n",
       "  </thead>\n",
       "  <tbody>\n",
       "    <tr>\n",
       "      <th>a</th>\n",
       "      <td>202103.0</td>\n",
       "      <td>25.413720</td>\n",
       "      <td>920.768137</td>\n",
       "      <td>0.0</td>\n",
       "      <td>0.0</td>\n",
       "      <td>0.0</td>\n",
       "      <td>0.0</td>\n",
       "      <td>37433.0</td>\n",
       "    </tr>\n",
       "    <tr>\n",
       "      <th>b</th>\n",
       "      <td>202667.0</td>\n",
       "      <td>26.751287</td>\n",
       "      <td>287.324162</td>\n",
       "      <td>0.0</td>\n",
       "      <td>0.0</td>\n",
       "      <td>0.0</td>\n",
       "      <td>0.0</td>\n",
       "      <td>4000.0</td>\n",
       "    </tr>\n",
       "  </tbody>\n",
       "</table>\n",
       "</div>"
      ],
      "text/plain": [
       "              count       mean         std  min  25%  50%  75%      max\n",
       "testgroup                                                              \n",
       "a          202103.0  25.413720  920.768137  0.0  0.0  0.0  0.0  37433.0\n",
       "b          202667.0  26.751287  287.324162  0.0  0.0  0.0  0.0   4000.0"
      ]
     },
     "execution_count": 15,
     "metadata": {},
     "output_type": "execute_result"
    }
   ],
   "source": [
    "#Посмотрим на описательную статистику по группам\n",
    "AB_df.groupby('testgroup')['revenue'].describe()"
   ]
  },
  {
   "cell_type": "code",
   "execution_count": 16,
   "metadata": {},
   "outputs": [
    {
     "data": {
      "text/html": [
       "<div>\n",
       "<style scoped>\n",
       "    .dataframe tbody tr th:only-of-type {\n",
       "        vertical-align: middle;\n",
       "    }\n",
       "\n",
       "    .dataframe tbody tr th {\n",
       "        vertical-align: top;\n",
       "    }\n",
       "\n",
       "    .dataframe thead th {\n",
       "        text-align: right;\n",
       "    }\n",
       "</style>\n",
       "<table border=\"1\" class=\"dataframe\">\n",
       "  <thead>\n",
       "    <tr style=\"text-align: right;\">\n",
       "      <th></th>\n",
       "      <th>testgroup</th>\n",
       "      <th>user_id</th>\n",
       "    </tr>\n",
       "  </thead>\n",
       "  <tbody>\n",
       "    <tr>\n",
       "      <th>0</th>\n",
       "      <td>a</td>\n",
       "      <td>202103</td>\n",
       "    </tr>\n",
       "    <tr>\n",
       "      <th>1</th>\n",
       "      <td>b</td>\n",
       "      <td>202667</td>\n",
       "    </tr>\n",
       "  </tbody>\n",
       "</table>\n",
       "</div>"
      ],
      "text/plain": [
       "  testgroup  user_id\n",
       "0         a   202103\n",
       "1         b   202667"
      ]
     },
     "execution_count": 16,
     "metadata": {},
     "output_type": "execute_result"
    }
   ],
   "source": [
    "#Посмотрим на число уникальных пользователей в двух группах\n",
    "AB_df\\\n",
    "    .groupby('testgroup')\\\n",
    "    .agg({'user_id' : 'nunique'})\\\n",
    "    .reset_index()"
   ]
  },
  {
   "cell_type": "markdown",
   "metadata": {},
   "source": [
    "Для дальнейшего удоюства обозначим, что группа **A** - **контрольная группа**, группа **Б** - **тестовая группа**"
   ]
  },
  {
   "cell_type": "markdown",
   "metadata": {},
   "source": [
    "# ARPU"
   ]
  },
  {
   "cell_type": "code",
   "execution_count": 17,
   "metadata": {},
   "outputs": [
    {
     "data": {
      "text/html": [
       "<div>\n",
       "<style scoped>\n",
       "    .dataframe tbody tr th:only-of-type {\n",
       "        vertical-align: middle;\n",
       "    }\n",
       "\n",
       "    .dataframe tbody tr th {\n",
       "        vertical-align: top;\n",
       "    }\n",
       "\n",
       "    .dataframe thead th {\n",
       "        text-align: right;\n",
       "    }\n",
       "</style>\n",
       "<table border=\"1\" class=\"dataframe\">\n",
       "  <thead>\n",
       "    <tr style=\"text-align: right;\">\n",
       "      <th></th>\n",
       "      <th>testgroup</th>\n",
       "      <th>revenue</th>\n",
       "    </tr>\n",
       "  </thead>\n",
       "  <tbody>\n",
       "    <tr>\n",
       "      <th>0</th>\n",
       "      <td>a</td>\n",
       "      <td>25.413720</td>\n",
       "    </tr>\n",
       "    <tr>\n",
       "      <th>1</th>\n",
       "      <td>b</td>\n",
       "      <td>26.751287</td>\n",
       "    </tr>\n",
       "  </tbody>\n",
       "</table>\n",
       "</div>"
      ],
      "text/plain": [
       "  testgroup    revenue\n",
       "0         a  25.413720\n",
       "1         b  26.751287"
      ]
     },
     "execution_count": 17,
     "metadata": {},
     "output_type": "execute_result"
    }
   ],
   "source": [
    "#Подсчет ARPU\n",
    "AB_df\\\n",
    "    .groupby('testgroup')\\\n",
    "    .agg({'revenue' : 'mean'})\\\n",
    "    .reset_index()"
   ]
  },
  {
   "cell_type": "markdown",
   "metadata": {},
   "source": [
    "По условию ARPU в тестовой группе выше на 5%, исходя из расчетов, полученных выше, это, действительно, так."
   ]
  },
  {
   "cell_type": "code",
   "execution_count": 18,
   "metadata": {},
   "outputs": [],
   "source": [
    "#Отберем пользователей в группе А\n",
    "A_group = AB_df.query(\"testgroup == 'a'\")"
   ]
  },
  {
   "cell_type": "code",
   "execution_count": 19,
   "metadata": {},
   "outputs": [],
   "source": [
    "#Отберем пользователей в группе Б\n",
    "B_group = AB_df.query(\"testgroup == 'b'\")"
   ]
  },
  {
   "cell_type": "markdown",
   "metadata": {},
   "source": [
    "Теперь, когда мы получили датафреймы с ARPU в двух группах, можно приступать к применению статистического теста. В данном случае можно попробовать сравнить средние значения в двух группах с помощью t-критерия Стьюдента для независимых выборок, однако, как мы знаем из теории, у него есть несколько условий:\n",
    "\n",
    "1. Сравниваемые значения не составляют пару коррелирующих значений(выполнено);\n",
    "\n",
    "2. Распределение признаков в каждой выборке соответствует нормальному распределению(тест Колмогорова-Смирнова);\n",
    "\n",
    "3. Дисперсии признака в выборках примерно равны (проверяется с помощью критерия F-Фишера)"
   ]
  },
  {
   "cell_type": "markdown",
   "metadata": {},
   "source": [
    "Выдвинем следюущие гипотезы: \n",
    "\n",
    "​\n",
    "$H_0$\n",
    "​\n",
    "  – в генеральной совокупности в контрольной и тестовой группах ARPU не различаются\n",
    "\n",
    "$H_1$\n",
    "​\n",
    "  – ARPU в генеральной совокупности в тестовой и контрольной группах не равны(в тестовой группе ARPU выше на 5%)\n",
    "​"
   ]
  },
  {
   "cell_type": "code",
   "execution_count": 22,
   "metadata": {},
   "outputs": [
    {
     "data": {
      "text/plain": [
       "<seaborn.axisgrid.FacetGrid at 0x7fb24f7e6240>"
      ]
     },
     "execution_count": 22,
     "metadata": {},
     "output_type": "execute_result"
    },
    {
     "data": {
      "image/png": "[encoded data removed]",
      "text/plain": [
       "<Figure size 360x360 with 1 Axes>"
      ]
     },
     "metadata": {
      "needs_background": "light"
     },
     "output_type": "display_data"
    },
    {
     "data": {
      "image/png": "[encoded data removed]",
      "text/plain": [
       "<Figure size 360x360 with 1 Axes>"
      ]
     },
     "metadata": {
      "needs_background": "light"
     },
     "output_type": "display_data"
    }
   ],
   "source": [
    "#Построим графики распределения выручки со всех пользователей для двух групп\n",
    "sns.displot(A_group['revenue'], bins=10, label='Группа A', color = 'red', alpha = 0.5)\n",
    "sns.displot(B_group['revenue'], bins = 10, label='Группа B', color = 'blue', alpha = 0.5)"
   ]
  },
  {
   "cell_type": "code",
   "execution_count": 29,
   "metadata": {},
   "outputs": [
    {
     "data": {
      "image/png": "[encoded data removed]",
      "text/plain": [
       "<Figure size 720x432 with 1 Axes>"
      ]
     },
     "metadata": {
      "needs_background": "light"
     },
     "output_type": "display_data"
    }
   ],
   "source": [
    "# Построение боксплотов\n",
    "plt.figure(figsize=(10, 6))\n",
    "\n",
    "# Боксплот для A_group\n",
    "plt.boxplot(A_group['revenue'], positions=[1], widths=0.6, vert=False, patch_artist=True, boxprops=dict(facecolor='lightcoral'))\n",
    "# Боксплот для B_group\n",
    "plt.boxplot(B_group['revenue'], positions=[2], widths=0.6, vert=False, patch_artist=True, boxprops=dict(facecolor='lightblue'))\n",
    "\n",
    "plt.yticks([1, 2], ['A Group', 'B Group'])\n",
    "plt.title('Horizontal Boxplot of Revenue by Group')\n",
    "plt.ylabel('Group')\n",
    "plt.xlabel('Revenue')\n",
    "\n",
    "plt.show()"
   ]
  },
  {
   "cell_type": "markdown",
   "metadata": {},
   "source": [
    "На графиках видно, что распределение сильно отличается от нормального. К тому же при расчете метрики \"ARPU\" мы вынуждены оставить в датафрейме пользователей, которые не платят, то есть у которых revenue = 0. Как видно на графике(боксплот), наибольшее количество пользователей не являются покупателями, и поэтому значения, где revenue != 0 воспринимаются, как \"выбросы\". На боксплоте видно, что медиана лежит у нуля, поэтому привычный формат графика \"boxplot\" не вырисовывается. Наличие большого количества нулевых значений может негативно повлиять на мощность теста, а также на среднее значение, что исказит результат **t-test**. В статистике рекомендуется применять **Mann-Whitney U test** для анализа данных в такой ситуации, однако эксперты рекомендуют применять его с осторожностью, так как он не проверяет средние значения в двух выборках. Единственный вариант в этом случае - это **bootstap**, однако здесь есть одно большое ограничение в виде размера датафрейма. К примеру, в группе \"А\" порядка  202103 заказов, и если мы будем ресемплить 10000 раз revenue, то это займет крайне большое количество времени(проверял). В таком случае мы можем снизить количество выборок для скорости вычисления, но это, разумеется, скажется на точности теста. \n",
    "\n",
    "В итоге я бы использовал bootstrap с 500-1000 выборками, и просто для наглядности рассчитаю Mann-Whitney U test(не будет использовать при принятии решения). Ну и для того, чтобы точно убедиться в ненормальности распределения переменной, проверим с помощью теста Шапиро-Уилка"
   ]
  },
  {
   "cell_type": "code",
   "execution_count": 24,
   "metadata": {},
   "outputs": [
    {
     "data": {
      "text/plain": [
       "KstestResult(statistic=0.5, pvalue=0.0)"
      ]
     },
     "execution_count": 24,
     "metadata": {},
     "output_type": "execute_result"
    }
   ],
   "source": [
    "#P-value < 0.05 следовательно у нас есть достаточно доказательств, чтобы сказать, что данные выборки не получены из нормального распределения.\n",
    "stats.kstest(A_group['revenue'], 'norm')"
   ]
  },
  {
   "cell_type": "code",
   "execution_count": 25,
   "metadata": {},
   "outputs": [
    {
     "data": {
      "text/plain": [
       "KstestResult(statistic=0.5, pvalue=0.0)"
      ]
     },
     "execution_count": 25,
     "metadata": {},
     "output_type": "execute_result"
    }
   ],
   "source": [
    "#P-value < 0.05 следовательно у нас есть достаточно доказательств, чтобы сказать, что данные выборки не получены из нормального распределения.\n",
    "stats.kstest(B_group['revenue'], 'norm')"
   ]
  },
  {
   "cell_type": "markdown",
   "metadata": {},
   "source": [
    "Теперь можно приступить к применению статистического критерия Mann-Whitney U test, а затем перейти к bootstrap"
   ]
  },
  {
   "cell_type": "code",
   "execution_count": 26,
   "metadata": {},
   "outputs": [],
   "source": [
    "stat, p  = stats.mannwhitneyu(A_group['revenue'], B_group['revenue'])"
   ]
  },
  {
   "cell_type": "code",
   "execution_count": 27,
   "metadata": {},
   "outputs": [
    {
     "name": "stdout",
     "output_type": "stream",
     "text": [
      "Не отклоняем H0\n"
     ]
    }
   ],
   "source": [
    "prob = 0.95\n",
    "alpha = 1.0 - prob\n",
    "if p <= alpha:\n",
    "    print('Отклоняем H0')\n",
    "else:\n",
    "    print('Не отклоняем H0')"
   ]
  },
  {
   "cell_type": "markdown",
   "metadata": {},
   "source": [
    "p-value > 0.05 следовательно мы можем говорить о том, что статистически значимые различия не обнаружены"
   ]
  },
  {
   "cell_type": "markdown",
   "metadata": {},
   "source": [
    "Далее сравним доверительные интервалы среднего значения двух бутстрапированных выборок"
   ]
  },
  {
   "cell_type": "code",
   "execution_count": null,
   "metadata": {},
   "outputs": [],
   "source": [
    "#Контрольная группа\n",
    "data = (A_group['revenue'], )\n",
    "n_resamples = 1000\n",
    "bootstrap_ci = bootstrap(data, np.mean, confidence_level=0.95,\n",
    "                         random_state=1, method='percentile', n_resamples=n_resamples)\n",
    "\n",
    "print(bootstrap_ci.confidence_interval)"
   ]
  },
  {
   "cell_type": "code",
   "execution_count": 21,
   "metadata": {},
   "outputs": [
    {
     "name": "stdout",
     "output_type": "stream",
     "text": [
      "ConfidenceInterval(low=25.482104511341262, high=28.067122052430836)\n"
     ]
    }
   ],
   "source": [
    "#Тестовая группа\n",
    "data = (B_group['revenue'], )\n",
    "n_resamples = 1000\n",
    "bootstrap_ci = bootstrap(data, np.mean, confidence_level=0.95,\n",
    "                         random_state=1, method='percentile', n_resamples=n_resamples)\n",
    "\n",
    "print(bootstrap_ci.confidence_interval)"
   ]
  },
  {
   "cell_type": "code",
   "execution_count": 28,
   "metadata": {},
   "outputs": [
    {
     "data": {
      "image/png": "[encoded data removed]",
      "text/plain": [
       "<Figure size 720x432 with 1 Axes>"
      ]
     },
     "metadata": {
      "needs_background": "light"
     },
     "output_type": "display_data"
    }
   ],
   "source": [
    "#С реализацией данного графика помогла нейросеть, идею с errorbar нашел на этом сайте: https://www.geeksforgeeks.org/errorbar-graph-in-python-using-matplotlib/\n",
    "\n",
    "data_A = (A_group['revenue'], )\n",
    "n_resamples = 1000\n",
    "bootstrap_ci_A = bootstrap(data_A, np.mean, confidence_level=0.95,\n",
    "                            random_state=1, method='percentile', n_resamples=n_resamples)\n",
    "\n",
    "mean_A = np.mean(A_group['revenue'])\n",
    "lower_A, upper_A = bootstrap_ci_A.confidence_interval\n",
    "\n",
    "data_B = (B_group['revenue'], )\n",
    "bootstrap_ci_B = bootstrap(data_B, np.mean, confidence_level=0.95,\n",
    "                            random_state=1, method='percentile', n_resamples=n_resamples)\n",
    "\n",
    "mean_B = np.mean(B_group['revenue'])\n",
    "lower_B, upper_B = bootstrap_ci_B.confidence_interval\n",
    "\n",
    "plt.figure(figsize=(10, 6))\n",
    "\n",
    "# График для группы A\n",
    "plt.errorbar(x=1, y=mean_A, yerr=[[mean_A - lower_A], [upper_A - mean_A]], fmt='o', label='Group A', color='red', capsize=5)\n",
    "\n",
    "# График для группы B\n",
    "plt.errorbar(x=1.1, y=mean_B, yerr=[[mean_B - lower_B], [upper_B - mean_B]], fmt='o', label='Group B', color='blue', capsize=5)\n",
    "\n",
    "plt.text(1, mean_A, f'{mean_A:.2f}', color='green', ha='center', va='bottom', fontsize=12)\n",
    "plt.text(1.1, mean_B, f'{mean_B:.2f}', color='green', ha='center', va='bottom', fontsize=12)\n",
    "\n",
    "# Соединение средних значений линией\n",
    "plt.plot([1, 1.1], [mean_A, mean_B], color='green', linestyle='--', label='Mean Revenue from Original Sample')\n",
    "\n",
    "# Отображение доверительных интервалов\n",
    "plt.text(1, lower_A, f'{lower_A:.2f}', color='red', ha='left', va='bottom', fontsize=10)\n",
    "plt.text(1, upper_A, f'{upper_A:.2f}', color='red', ha='left', va='bottom', fontsize=10)\n",
    "plt.text(1.1, lower_B, f'{lower_B:.2f}', color='blue', ha='left', va='bottom', fontsize=10)\n",
    "plt.text(1.1, upper_B, f'{upper_B:.2f}', color='blue', ha='left', va='bottom', fontsize=10)\n",
    "\n",
    "# Настройки графика\n",
    "plt.xticks([1, 1.1], ['Group A', 'Group B'])\n",
    "plt.ylabel('Average Revenue')\n",
    "plt.title('Confidence Intervals for ARPU')\n",
    "\n",
    "# Установка границ оси Y\n",
    "plt.ylim(0, max(upper_A, upper_B) + 10)  # Устанавливаем верхнюю границу немного выше максимума\n",
    "\n",
    "# Установка границ оси X\n",
    "plt.xlim(0.8, 1.3)  # Уменьшаем диапазон оси X для приближения\n",
    "\n",
    "# Перемещение легенды в правый нижний угол\n",
    "plt.legend(loc='lower right')\n",
    "\n",
    "plt.grid()\n",
    "\n",
    "# Показать график\n",
    "plt.show()"
   ]
  },
  {
   "cell_type": "markdown",
   "metadata": {},
   "source": [
    "В данном случае мы видим, что доверительные интервалы средних значений в двух группах пересекаются между собой, следовательно мы можем говорить о том, что в генеральной совокупности статистически значимые различия не обнаружены, у нас не достаточно оснований отклонить нулевую гипотезу"
   ]
  },
  {
   "cell_type": "markdown",
   "metadata": {},
   "source": [
    "# ARPPU"
   ]
  },
  {
   "cell_type": "markdown",
   "metadata": {},
   "source": [
    "Рассмотрим следующую метрику: **ARPPU**\n",
    "\n",
    "ARPPU = Revenue / Paying Users (чистый доход «поделить» на количество платящих пользователей)"
   ]
  },
  {
   "cell_type": "code",
   "execution_count": 30,
   "metadata": {},
   "outputs": [
    {
     "name": "stderr",
     "output_type": "stream",
     "text": [
      "/opt/tljh/user/lib/python3.7/site-packages/ipykernel_launcher.py:2: SettingWithCopyWarning: \n",
      "A value is trying to be set on a copy of a slice from a DataFrame.\n",
      "Try using .loc[row_indexer,col_indexer] = value instead\n",
      "\n",
      "See the caveats in the documentation: https://pandas.pydata.org/pandas-docs/stable/user_guide/indexing.html#returning-a-view-versus-a-copy\n",
      "  \n",
      "/opt/tljh/user/lib/python3.7/site-packages/ipykernel_launcher.py:3: SettingWithCopyWarning: \n",
      "A value is trying to be set on a copy of a slice from a DataFrame.\n",
      "Try using .loc[row_indexer,col_indexer] = value instead\n",
      "\n",
      "See the caveats in the documentation: https://pandas.pydata.org/pandas-docs/stable/user_guide/indexing.html#returning-a-view-versus-a-copy\n",
      "  This is separate from the ipykernel package so we can avoid doing imports until\n"
     ]
    }
   ],
   "source": [
    "#Поделим выручку с каждого пользователя на количество пользователей в каждой группе для удобства в дальнейших рассчетах\n",
    "A_group['ARPPU'] = A_group.revenue.apply(lambda x: x/1928)\n",
    "B_group['ARPPU'] = B_group.revenue.apply(lambda x: x/1805)"
   ]
  },
  {
   "cell_type": "markdown",
   "metadata": {},
   "source": [
    "При проверке гипотезы о различии метрики в двух группах будем руководствоваться той же логикой, что и при расчете ARPU, только ради разнообразия поменяем тест при проверке на нормальность:\n",
    "\n",
    "1. Сравниваемые значения не составляют пару коррелирующих значений(выполнено);\n",
    "\n",
    "2. Распределение признаков в каждой выборке соответствует нормальному распределению(тест Шапиро-Уилка);\n",
    "\n",
    "3. Дисперсии признака в выборках примерно равны (проверяется с помощью критерия F-Фишера)\n",
    "\n",
    "В конечном итоге будет принято решение о применении t-test для двух независимых выборок или же выборе иного метода для анализа двух переменных"
   ]
  },
  {
   "cell_type": "markdown",
   "metadata": {},
   "source": [
    "Начнем с проверки на нормальность:"
   ]
  },
  {
   "cell_type": "code",
   "execution_count": 32,
   "metadata": {},
   "outputs": [],
   "source": [
    "#Также немаловажным при расчете данной метрики избавиться от неплатящих игроков\n",
    "A_group_2 = A_group.query(\"revenue != 0\")\n",
    "B_group_2 = B_group.query(\"revenue != 0\")"
   ]
  },
  {
   "cell_type": "code",
   "execution_count": 23,
   "metadata": {},
   "outputs": [
    {
     "data": {
      "text/plain": [
       "<seaborn.axisgrid.FacetGrid at 0x7f15fa019320>"
      ]
     },
     "execution_count": 23,
     "metadata": {},
     "output_type": "execute_result"
    },
    {
     "data": {
      "image/png": "[encoded data removed]",
      "text/plain": [
       "<Figure size 360x360 with 1 Axes>"
      ]
     },
     "metadata": {
      "needs_background": "light"
     },
     "output_type": "display_data"
    },
    {
     "data": {
      "image/png": "[encoded data removed]",
      "text/plain": [
       "<Figure size 360x360 with 1 Axes>"
      ]
     },
     "metadata": {
      "needs_background": "light"
     },
     "output_type": "display_data"
    }
   ],
   "source": [
    "#Построим графики распределения ARPPU в двух группах\n",
    "sns.displot(A_group_2['ARPPU'], bins=10, label='Группа A', color = 'red', alpha = 0.5)\n",
    "sns.displot(B_group_2['ARPPU'], bins = 10, label='Группа B', color = 'blue', alpha = 0.5)"
   ]
  },
  {
   "cell_type": "markdown",
   "metadata": {},
   "source": [
    "Собственно как и в случае с ARPU игроки в первой группе совершают покупки на меньшую сумму(за исключением нескольких крупных покупок), а вот в тестовой наоборот - сумма, как правило, выше, именно поэтому за счет крупных покупок у ряда пользователей в контрольной группе, среднее значение находится приблизительно на одном уровне в выборках. \n",
    "\n",
    "Если мы посмотрим на данные из группы \"A\" чуть ближе,то сможем выделить кластеры на основе выручки, которыую принесли пользователи. Как и было сказано ранее, в контрольной группе есть пользователи, которые совершают небольшие покупки, а есть пользователи, которые делают покупки на большие суммы. В дальнейшем можно было бы ознакомиться с данным вопросом подробнее и попытаться выделить эти кластеры."
   ]
  },
  {
   "cell_type": "code",
   "execution_count": 33,
   "metadata": {},
   "outputs": [
    {
     "data": {
      "image/png": "[encoded data removed]",
      "text/plain": [
       "<Figure size 720x432 with 1 Axes>"
      ]
     },
     "metadata": {
      "needs_background": "light"
     },
     "output_type": "display_data"
    }
   ],
   "source": [
    "# Построение боксплотов\n",
    "plt.figure(figsize=(10, 6))\n",
    "\n",
    "# Боксплот для A_group\n",
    "plt.boxplot(A_group_2['ARPPU'], positions=[1], widths=0.6, vert=False, patch_artist=True, boxprops=dict(facecolor='lightcoral'))\n",
    "# Боксплот для B_group\n",
    "plt.boxplot(B_group_2['ARPPU'], positions=[2], widths=0.6, vert=False, patch_artist=True, boxprops=dict(facecolor='lightblue'))\n",
    "\n",
    "# Настройка осей и заголовков\n",
    "plt.yticks([1, 2], ['A Group', 'B Group'])\n",
    "plt.title('Horizontal Boxplot of ARPPU by Group')\n",
    "plt.ylabel('Group')\n",
    "plt.xlabel('ARPPU')\n",
    "\n",
    "plt.show()"
   ]
  },
  {
   "cell_type": "markdown",
   "metadata": {},
   "source": [
    "Ситуация схожа с метрикой ARPU: в двух группах распределние переменной сильно отличется от нормального, однако медиана в тестовой группе будет лежать в диапазоне 1,7. Также дополнительно проверим результат с помощью статистических тестов"
   ]
  },
  {
   "cell_type": "code",
   "execution_count": 34,
   "metadata": {},
   "outputs": [
    {
     "data": {
      "text/html": [
       "<div>\n",
       "<style scoped>\n",
       "    .dataframe tbody tr th:only-of-type {\n",
       "        vertical-align: middle;\n",
       "    }\n",
       "\n",
       "    .dataframe tbody tr th {\n",
       "        vertical-align: top;\n",
       "    }\n",
       "\n",
       "    .dataframe thead th {\n",
       "        text-align: right;\n",
       "    }\n",
       "</style>\n",
       "<table border=\"1\" class=\"dataframe\">\n",
       "  <thead>\n",
       "    <tr style=\"text-align: right;\">\n",
       "      <th></th>\n",
       "      <th>W</th>\n",
       "      <th>pval</th>\n",
       "      <th>normal</th>\n",
       "    </tr>\n",
       "  </thead>\n",
       "  <tbody>\n",
       "    <tr>\n",
       "      <th>ARPPU</th>\n",
       "      <td>0.266792</td>\n",
       "      <td>0.0</td>\n",
       "      <td>False</td>\n",
       "    </tr>\n",
       "  </tbody>\n",
       "</table>\n",
       "</div>"
      ],
      "text/plain": [
       "              W  pval  normal\n",
       "ARPPU  0.266792   0.0   False"
      ]
     },
     "execution_count": 34,
     "metadata": {},
     "output_type": "execute_result"
    }
   ],
   "source": [
    "#контрольная группа\n",
    "pg.normality(A_group_2['ARPPU'])"
   ]
  },
  {
   "cell_type": "code",
   "execution_count": 35,
   "metadata": {},
   "outputs": [
    {
     "data": {
      "text/html": [
       "<div>\n",
       "<style scoped>\n",
       "    .dataframe tbody tr th:only-of-type {\n",
       "        vertical-align: middle;\n",
       "    }\n",
       "\n",
       "    .dataframe tbody tr th {\n",
       "        vertical-align: top;\n",
       "    }\n",
       "\n",
       "    .dataframe thead th {\n",
       "        text-align: right;\n",
       "    }\n",
       "</style>\n",
       "<table border=\"1\" class=\"dataframe\">\n",
       "  <thead>\n",
       "    <tr style=\"text-align: right;\">\n",
       "      <th></th>\n",
       "      <th>W</th>\n",
       "      <th>pval</th>\n",
       "      <th>normal</th>\n",
       "    </tr>\n",
       "  </thead>\n",
       "  <tbody>\n",
       "    <tr>\n",
       "      <th>ARPPU</th>\n",
       "      <td>0.958312</td>\n",
       "      <td>2.491114e-22</td>\n",
       "      <td>False</td>\n",
       "    </tr>\n",
       "  </tbody>\n",
       "</table>\n",
       "</div>"
      ],
      "text/plain": [
       "              W          pval  normal\n",
       "ARPPU  0.958312  2.491114e-22   False"
      ]
     },
     "execution_count": 35,
     "metadata": {},
     "output_type": "execute_result"
    }
   ],
   "source": [
    "#тестовая группа\n",
    "pg.normality(B_group_2['ARPPU'])"
   ]
  },
  {
   "cell_type": "markdown",
   "metadata": {},
   "source": [
    "В двух группах p-value оказался меньше порогового значения - 0.05, что говорит о том, что переменные распределены ненормально. В таком случае алгоритм будет идентичным прошлой метрике: рассмотрим **U-Манна-Уитни**, пусть его и не рекомендуют использовать в качестве теста, который сравнивает средние значения, так как высота ошибка первого рода кратно растет при его применении(не будет использовать при принятии решений), а затем воспользуемся **bootstrap**, чтобы сделать вывод о различия. Перед тем, как приступать к тестам, посмотрим, как выглядят средние значения метрик в двух выборках(группах)"
   ]
  },
  {
   "cell_type": "code",
   "execution_count": 28,
   "metadata": {},
   "outputs": [
    {
     "data": {
      "text/plain": [
       "2663.9984439834025"
      ]
     },
     "execution_count": 28,
     "metadata": {},
     "output_type": "execute_result"
    }
   ],
   "source": [
    "#Контрольная группа\n",
    "A_group_2['ARPPU'].sum()"
   ]
  },
  {
   "cell_type": "code",
   "execution_count": 29,
   "metadata": {},
   "outputs": [
    {
     "data": {
      "text/plain": [
       "3003.6581717451522"
      ]
     },
     "execution_count": 29,
     "metadata": {},
     "output_type": "execute_result"
    }
   ],
   "source": [
    "#Тестовая группа\n",
    "B_group_2['ARPPU'].sum()"
   ]
  },
  {
   "cell_type": "markdown",
   "metadata": {},
   "source": [
    "Выдвинем следюущие гипотезы: \n",
    "\n",
    "​\n",
    "$H_0$\n",
    "​\n",
    "  – в генеральной совокупности ARPPU в двух группах не различаются\n",
    "\n",
    "$H_1$\n",
    "​\n",
    "  – в генеральной совокупности ARPPU в двух группах различаются (альтернативная гипотеза)\n",
    "​"
   ]
  },
  {
   "cell_type": "code",
   "execution_count": 30,
   "metadata": {},
   "outputs": [],
   "source": [
    "stat2, p2  = stats.mannwhitneyu(A_group_2['ARPPU'], B_group_2['ARPPU'])"
   ]
  },
  {
   "cell_type": "code",
   "execution_count": 31,
   "metadata": {},
   "outputs": [
    {
     "name": "stdout",
     "output_type": "stream",
     "text": [
      "Отклоняем H0\n"
     ]
    }
   ],
   "source": [
    "prob = 0.95\n",
    "alpha = 1.0 - prob\n",
    "if p2 <= alpha:\n",
    "    print('Отклоняем H0')\n",
    "else:\n",
    "    print('Не отклоняем H0')"
   ]
  },
  {
   "cell_type": "markdown",
   "metadata": {},
   "source": [
    "Выводов по поводу данного теста не будет, приступим к bootstrap. Важно дополнить, что теперь две группы имеют сравнительно небольшой размер, и теперь можно сформировать гораздо больше повторных выборок"
   ]
  },
  {
   "cell_type": "code",
   "execution_count": 36,
   "metadata": {},
   "outputs": [
    {
     "name": "stdout",
     "output_type": "stream",
     "text": [
      "ConfidenceInterval(low=2278.579253112033, high=3067.9626037344397)\n"
     ]
    }
   ],
   "source": [
    "#Контрольная группа\n",
    "data = (A_group_2['ARPPU'], )\n",
    "n_resamples = 10000\n",
    "bootstrap_ci = bootstrap(data, np.sum, confidence_level=0.95,\n",
    "                         random_state=1, method='percentile', n_resamples=n_resamples)\n",
    "\n",
    "print(bootstrap_ci.confidence_interval)"
   ]
  },
  {
   "cell_type": "code",
   "execution_count": 37,
   "metadata": {},
   "outputs": [
    {
     "name": "stdout",
     "output_type": "stream",
     "text": [
      "ConfidenceInterval(low=2976.988975069252, high=3030.1494875346266)\n"
     ]
    }
   ],
   "source": [
    "#Тестовая группа \n",
    "data = (B_group_2['ARPPU'], )\n",
    "n_resamples = 10000\n",
    "bootstrap_ci = bootstrap(data, np.sum, confidence_level=0.95,\n",
    "                         random_state=1, method='percentile', n_resamples=n_resamples)\n",
    "\n",
    "print(bootstrap_ci.confidence_interval)"
   ]
  },
  {
   "cell_type": "code",
   "execution_count": 38,
   "metadata": {},
   "outputs": [
    {
     "data": {
      "image/png": "[encoded data removed]",
      "text/plain": [
       "<Figure size 720x432 with 1 Axes>"
      ]
     },
     "metadata": {
      "needs_background": "light"
     },
     "output_type": "display_data"
    }
   ],
   "source": [
    "#С реализацией данного графика помогла нейросеть, идею с errorbar нашел на этом сайте: https://www.geeksforgeeks.org/errorbar-graph-in-python-using-matplotlib/\n",
    "# Контрольная группа\n",
    "data_A = (A_group_2['ARPPU'], )\n",
    "n_resamples = 10000\n",
    "bootstrap_ci_A = bootstrap(data_A, np.sum, confidence_level=0.95,\n",
    "                            random_state=1, method='percentile', n_resamples=n_resamples)\n",
    "\n",
    "mean_A = np.sum(A_group_2['ARPPU'])\n",
    "lower_A, upper_A = bootstrap_ci_A.confidence_interval\n",
    "\n",
    "# Тестовая группа\n",
    "data_B = (B_group_2['ARPPU'], )\n",
    "bootstrap_ci_B = bootstrap(data_B, np.sum, confidence_level=0.95,\n",
    "                            random_state=1, method='percentile', n_resamples=n_resamples)\n",
    "\n",
    "mean_B = np.sum(B_group_2['ARPPU'])\n",
    "lower_B, upper_B = bootstrap_ci_B.confidence_interval\n",
    "\n",
    "plt.figure(figsize=(10, 6))\n",
    "\n",
    "# График для группы A\n",
    "plt.errorbar(x=1, y=mean_A, yerr=[[mean_A - lower_A], [upper_A - mean_A]], fmt='o', label='Group A', color='blue', capsize=5)\n",
    "\n",
    "# График для группы B\n",
    "plt.errorbar(x=1.1, y=mean_B, yerr=[[mean_B - lower_B], [upper_B - mean_B]], fmt='o', label='Group B', color='red', capsize=5)\n",
    "\n",
    "plt.text(1, mean_A, f'{mean_A:.2f}', color='green', ha='center', va='bottom', fontsize=12)\n",
    "plt.text(1.1, mean_B, f'{mean_B:.2f}', color='green', ha='center', va='bottom', fontsize=12)\n",
    "\n",
    "# Соединение средних значений линией\n",
    "plt.plot([1, 1.1], [mean_A, mean_B], color='green', linestyle='--', label='ARPPU from Original Sample')\n",
    "\n",
    "# Отображение доверительных интервалов\n",
    "plt.text(1, lower_A, f'{lower_A:.2f}', color='blue', ha='center', va='bottom', fontsize=12)\n",
    "plt.text(1, upper_A, f'{upper_A:.2f}', color='blue', ha='center', va='bottom', fontsize=12)\n",
    "plt.text(1.1, lower_B, f'{lower_B:.2f}', color='red', ha='center', va='bottom', fontsize=12)\n",
    "plt.text(1.1, upper_B, f'{upper_B:.2f}', color='red', ha='center', va='bottom', fontsize=12)\n",
    "\n",
    "# Настройки графика\n",
    "plt.xticks([1, 1.1], ['Group A', 'Group B'])\n",
    "plt.ylabel('Total ARPPU')\n",
    "plt.title('Confidence Intervals for ARPPU')\n",
    "\n",
    "# Установка границ оси Y с небольшим отступом\n",
    "y_min = min(lower_A, lower_B) - 200  # Увеличиваем нижнюю границу\n",
    "y_max = max(mean_A, mean_B, upper_A, upper_B) + 200  # Увеличиваем верхнюю границу\n",
    "plt.ylim(y_min, y_max)\n",
    "\n",
    "# Установка границ оси X\n",
    "plt.xlim(0.8, 1.3)\n",
    "\n",
    "# Перемещение легенды в правый нижний угол\n",
    "plt.legend(loc='lower right')\n",
    "\n",
    "plt.grid()\n",
    "\n",
    "# Показать график\n",
    "plt.show()"
   ]
  },
  {
   "cell_type": "markdown",
   "metadata": {},
   "source": [
    "Мы видим, что доверительные интервалы пересекаются между собой, следовательно у нас не достаточно оснований для того, чтобы отклонить нулевую гипотезу. Мы говорим о том, что в генеральной соовкупности никакого различия в ARPPU между двумя группами нет."
   ]
  },
  {
   "cell_type": "markdown",
   "metadata": {},
   "source": [
    "**Важное дополнение**: можно было рассчитывать ARPPU иначе: сложить выручку со всех пользователей и поделить на количество платящихпользователей в группе, а затем засемплировать данное значение в функции рассчета бутстрапа, но, как мне кажется, вариант, предложенный мной, имеет право на существование, ведь если сложить все значения в столбце ARPPU, то мы как раз получим то самое значение ARPPU при делении выручки на платящих пользователей. При визуализации я использовал столбец ARPPU, а не revenue осознанно, так как сам стобец ARPPU делится на константу, что в целом не должно сказываться на форме самого распределения(я проверял)"
   ]
  },
  {
   "cell_type": "markdown",
   "metadata": {},
   "source": [
    "# Количество покупок"
   ]
  },
  {
   "cell_type": "markdown",
   "metadata": {},
   "source": [
    "Далее рассмотрим метрику \"количество покупок\". В условии дано, что в контрольной группе 1928 игроков из 202103 оказались платящими, а в тестовой – 1805 из 202667. Для того, чтобы сравнить две группы между собой и определить, дейтсвительно ли в генеральной совокупности сохраняется такое соотношение, воспользуется анализом таблиц сопряженности, а именно критерием хи-квадрат Пирсона. Выдвинем следюущие гипотезы:"
   ]
  },
  {
   "cell_type": "markdown",
   "metadata": {},
   "source": [
    "\n",
    "- $H_0$: Нет значимой разницы в количестве покупок между тестовой и контольной группой\n",
    "\n",
    "\n",
    "- $H_1$: Есть значимая разница в количестве покупок между тестовой и контрольной группами\n"
   ]
  },
  {
   "cell_type": "markdown",
   "metadata": {},
   "source": [
    "План действий такой: создадим пустой лист, который заполним значениями \"buying\" и \"not buying\", где \"buying\" = revenue>0, а \"not buying\" = 0, соотвественно. Данный способ облегчит создание таблицы сопряженности, которая нужна для анализа"
   ]
  },
  {
   "cell_type": "code",
   "execution_count": 44,
   "metadata": {},
   "outputs": [],
   "source": [
    "#Создадим пустой лист\n",
    "lst = []"
   ]
  },
  {
   "cell_type": "code",
   "execution_count": 45,
   "metadata": {},
   "outputs": [],
   "source": [
    "#Цикл для отбора нужных строк\n",
    "for i in AB_df['revenue']:\n",
    "    if i > 0:\n",
    "        lst.append('buying')\n",
    "    else:\n",
    "        lst.append('not buying')       "
   ]
  },
  {
   "cell_type": "code",
   "execution_count": 46,
   "metadata": {},
   "outputs": [],
   "source": [
    "AB_df['status'] = lst"
   ]
  },
  {
   "cell_type": "code",
   "execution_count": 47,
   "metadata": {},
   "outputs": [
    {
     "data": {
      "text/html": [
       "<div>\n",
       "<style scoped>\n",
       "    .dataframe tbody tr th:only-of-type {\n",
       "        vertical-align: middle;\n",
       "    }\n",
       "\n",
       "    .dataframe tbody tr th {\n",
       "        vertical-align: top;\n",
       "    }\n",
       "\n",
       "    .dataframe thead th {\n",
       "        text-align: right;\n",
       "    }\n",
       "</style>\n",
       "<table border=\"1\" class=\"dataframe\">\n",
       "  <thead>\n",
       "    <tr style=\"text-align: right;\">\n",
       "      <th>testgroup</th>\n",
       "      <th>a</th>\n",
       "      <th>b</th>\n",
       "    </tr>\n",
       "    <tr>\n",
       "      <th>status</th>\n",
       "      <th></th>\n",
       "      <th></th>\n",
       "    </tr>\n",
       "  </thead>\n",
       "  <tbody>\n",
       "    <tr>\n",
       "      <th>buying</th>\n",
       "      <td>1928</td>\n",
       "      <td>1805</td>\n",
       "    </tr>\n",
       "    <tr>\n",
       "      <th>not buying</th>\n",
       "      <td>200175</td>\n",
       "      <td>200862</td>\n",
       "    </tr>\n",
       "  </tbody>\n",
       "</table>\n",
       "</div>"
      ],
      "text/plain": [
       "testgroup        a       b\n",
       "status                    \n",
       "buying        1928    1805\n",
       "not buying  200175  200862"
      ]
     },
     "execution_count": 47,
     "metadata": {},
     "output_type": "execute_result"
    }
   ],
   "source": [
    "#Создадим таблицу сопряженности для наглядности \n",
    "pd.crosstab(AB_df['status'], AB_df['testgroup'])"
   ]
  },
  {
   "cell_type": "code",
   "execution_count": 48,
   "metadata": {},
   "outputs": [],
   "source": [
    "#Применим хи-квадрат Пирсона к получившийся сводной таблице\n",
    "stat, p, dof, expected = chi2_contingency(pd.crosstab(AB_df.status, AB_df.testgroup))"
   ]
  },
  {
   "cell_type": "code",
   "execution_count": 49,
   "metadata": {},
   "outputs": [
    {
     "data": {
      "text/plain": [
       "(4.374729521260405, 0.03647561892312613, 1)"
      ]
     },
     "execution_count": 49,
     "metadata": {},
     "output_type": "execute_result"
    }
   ],
   "source": [
    "stat, p, dof"
   ]
  },
  {
   "cell_type": "code",
   "execution_count": 50,
   "metadata": {},
   "outputs": [
    {
     "name": "stdout",
     "output_type": "stream",
     "text": [
      "Отклоняем H0\n"
     ]
    }
   ],
   "source": [
    "prob = 0.95\n",
    "alpha = 1.0 - prob\n",
    "if p <= alpha:\n",
    "    print('Отклоняем H0')\n",
    "else:\n",
    "    print('Не отклоняем H0')"
   ]
  },
  {
   "cell_type": "markdown",
   "metadata": {},
   "source": [
    "Таким образом, мы получили результат p-value < 0.05, а также полученное значение Хи-квадрат(4.4) > критического(3.84), следовательно мы можем отклонить нулевую гипотезу о равенстве количества покупок в тестовой и контрольной группах. Оказалось, что в контрольной группе игроки имеют большее количество покупок, нежели в тестовой. \n",
    "\n",
    "В итоге на данном этапе мы имеем довольно сомнительный результат: метрки ARPU и ARPPU не прокрасились, в то время как метрика \"количество покупок\" показала, что в контрльной группе платящих пользователей больше, следовательно набор акционных предложений для контрольной группы оказался успешнее. \n",
    "\n",
    "К сожалению, данный датафрейм не располагает дополнительными данными, которые можно было бы использовать для различных метрик, к примеру: Retention Rate, LTV, AOV и так далее. Дополнительно можно было бы рассмотреть момент, на который я указывал выше - анализ кластеров в контрольной группе. Воспользуемся подходом, который обычно используется при RFM-сегментации: определим кластеры на основе квантилей."
   ]
  },
  {
   "cell_type": "markdown",
   "metadata": {},
   "source": [
    "# Кластеры"
   ]
  },
  {
   "cell_type": "code",
   "execution_count": 54,
   "metadata": {},
   "outputs": [
    {
     "data": {
      "text/plain": [
       "0.25    257.0\n",
       "0.50    311.0\n",
       "0.75    361.0\n",
       "Name: revenue, dtype: float64"
      ]
     },
     "execution_count": 54,
     "metadata": {},
     "output_type": "execute_result"
    }
   ],
   "source": [
    "quantiles=A_group.query(\"revenue !=0\")['revenue'].quantile(q = [0.25, 0.5, 0.75])\n",
    "quantiles"
   ]
  },
  {
   "cell_type": "markdown",
   "metadata": {},
   "source": [
    "В итоге мы получили значения, которые отражают квантили распредления выручки в группе \"А\". Однако квантили не полностью отражают реальное положение дел: как мы помним из графиков, у нас были значения, которые сильно выбиваются из общей массы - выбросы, где чеки пользователей первышали 30000. "
   ]
  },
  {
   "cell_type": "code",
   "execution_count": 55,
   "metadata": {},
   "outputs": [],
   "source": [
    "#Снова создадим даатфрейм с платящими пользователями\n",
    "rev_clusters = A_group.query(\"revenue !=0\")"
   ]
  },
  {
   "cell_type": "code",
   "execution_count": 56,
   "metadata": {},
   "outputs": [
    {
     "data": {
      "text/plain": [
       "<seaborn.axisgrid.FacetGrid at 0x7fb24fabdcc0>"
      ]
     },
     "execution_count": 56,
     "metadata": {},
     "output_type": "execute_result"
    },
    {
     "data": {
      "image/png": "[encoded data removed]",
      "text/plain": [
       "<Figure size 360x360 with 1 Axes>"
      ]
     },
     "metadata": {
      "needs_background": "light"
     },
     "output_type": "display_data"
    }
   ],
   "source": [
    "#Построим график\n",
    "sns.displot(rev_clusters['revenue'], bins = 10, label='Группа B', color = 'r', alpha = 0.5)"
   ]
  },
  {
   "cell_type": "markdown",
   "metadata": {},
   "source": [
    "Собственно, мы видим, что отчетливо выделяются два кластера на графике, однако значения, которые меньше 30000 тоже можно поделить на небольшие кластеры. Если мы посмотрем на список этих значений подробнее, то там можно встретить значения от 200 до 400, и, учитывая квантили, которые были использованы выше, можно выделить следующие кластеры по возрастанию выручки: \n",
    "\n",
    "1. кластер:  200-257\n",
    "\n",
    "2. кластер: 257-311\n",
    "\n",
    "3. кластер: 311-361\n",
    "\n",
    "4. кластер 361-400\n",
    "\n",
    "5. кластер: больше 1000"
   ]
  },
  {
   "cell_type": "code",
   "execution_count": 57,
   "metadata": {},
   "outputs": [],
   "source": [
    "def cluster_num(x):\n",
    "    if x >= 200 and x <= 257:\n",
    "        return 1\n",
    "    elif x > 257 and x <= 311:\n",
    "        return 2\n",
    "    elif x > 311 and x <= 361:\n",
    "        return 3\n",
    "    elif x > 361 and x <= 400:\n",
    "        return 4\n",
    "    else:\n",
    "        return 5"
   ]
  },
  {
   "cell_type": "code",
   "execution_count": 58,
   "metadata": {},
   "outputs": [
    {
     "name": "stderr",
     "output_type": "stream",
     "text": [
      "/opt/tljh/user/lib/python3.7/site-packages/ipykernel_launcher.py:1: SettingWithCopyWarning: \n",
      "A value is trying to be set on a copy of a slice from a DataFrame.\n",
      "Try using .loc[row_indexer,col_indexer] = value instead\n",
      "\n",
      "See the caveats in the documentation: https://pandas.pydata.org/pandas-docs/stable/user_guide/indexing.html#returning-a-view-versus-a-copy\n",
      "  \"\"\"Entry point for launching an IPython kernel.\n"
     ]
    }
   ],
   "source": [
    "rev_clusters['cluster'] = rev_clusters['revenue'].apply(lambda x: cluster_num(x))"
   ]
  },
  {
   "cell_type": "code",
   "execution_count": 60,
   "metadata": {},
   "outputs": [
    {
     "data": {
      "text/html": [
       "<div>\n",
       "<style scoped>\n",
       "    .dataframe tbody tr th:only-of-type {\n",
       "        vertical-align: middle;\n",
       "    }\n",
       "\n",
       "    .dataframe tbody tr th {\n",
       "        vertical-align: top;\n",
       "    }\n",
       "\n",
       "    .dataframe thead th {\n",
       "        text-align: right;\n",
       "    }\n",
       "</style>\n",
       "<table border=\"1\" class=\"dataframe\">\n",
       "  <thead>\n",
       "    <tr style=\"text-align: right;\">\n",
       "      <th></th>\n",
       "      <th>user_id</th>\n",
       "      <th>revenue</th>\n",
       "      <th>testgroup</th>\n",
       "      <th>ARPPU</th>\n",
       "      <th>cluster</th>\n",
       "    </tr>\n",
       "  </thead>\n",
       "  <tbody>\n",
       "    <tr>\n",
       "      <th>72</th>\n",
       "      <td>73</td>\n",
       "      <td>351</td>\n",
       "      <td>a</td>\n",
       "      <td>0.182054</td>\n",
       "      <td>3</td>\n",
       "    </tr>\n",
       "    <tr>\n",
       "      <th>341</th>\n",
       "      <td>342</td>\n",
       "      <td>290</td>\n",
       "      <td>a</td>\n",
       "      <td>0.150415</td>\n",
       "      <td>2</td>\n",
       "    </tr>\n",
       "    <tr>\n",
       "      <th>385</th>\n",
       "      <td>386</td>\n",
       "      <td>250</td>\n",
       "      <td>a</td>\n",
       "      <td>0.129668</td>\n",
       "      <td>1</td>\n",
       "    </tr>\n",
       "    <tr>\n",
       "      <th>416</th>\n",
       "      <td>417</td>\n",
       "      <td>37324</td>\n",
       "      <td>a</td>\n",
       "      <td>19.358921</td>\n",
       "      <td>5</td>\n",
       "    </tr>\n",
       "    <tr>\n",
       "      <th>712</th>\n",
       "      <td>713</td>\n",
       "      <td>255</td>\n",
       "      <td>a</td>\n",
       "      <td>0.132261</td>\n",
       "      <td>1</td>\n",
       "    </tr>\n",
       "  </tbody>\n",
       "</table>\n",
       "</div>"
      ],
      "text/plain": [
       "     user_id  revenue testgroup      ARPPU  cluster\n",
       "72        73      351         a   0.182054        3\n",
       "341      342      290         a   0.150415        2\n",
       "385      386      250         a   0.129668        1\n",
       "416      417    37324         a  19.358921        5\n",
       "712      713      255         a   0.132261        1"
      ]
     },
     "execution_count": 60,
     "metadata": {},
     "output_type": "execute_result"
    }
   ],
   "source": [
    "#Итоговый вариант таблицы\n",
    "rev_clusters.head()"
   ]
  },
  {
   "cell_type": "markdown",
   "metadata": {},
   "source": [
    "В итоге мы получили кластеры, которые деляют платящих игроков по выручке, которую они принесли продукту. Для выполнения задания данное действие не требовалось, однако в теории заказчику может потребоваться такая информация о пользователях в будущем."
   ]
  },
  {
   "cell_type": "markdown",
   "metadata": {},
   "source": [
    "# Выводы"
   ]
  },
  {
   "cell_type": "markdown",
   "metadata": {},
   "source": [
    "К сожалению, набор акционных предложений для тестовой группы не может быть использован в продакшене. Гипотезы о различиях метрик ARPU и ARPPU в контрольной и тестовых группах не подствердились, однако анализ метрики \"Количество покупок\" подтвердил статистически значимые различия в генеральной совокупности между группами, однако не в пользу тестовой: в контрольной группе больше платящих пользователей. \n",
    "\n",
    "Дополнительно я разделил пользователей в контрольной группе на кластеры, что в теории могло бы быть полезно заказчику. К сожалению, как и было сказано выше, данный датафрейм располагает сравнительно небольшим куском данных для анализа. Можно было бы рассчитать множество других полезных метрик для бизнеса: RR, MAU, DAU, AOV. Едиснтвенная метрика, которую я упустил в данном задании - это Convertion Rate. Я бы мог сравнить конвермию в покупку в двух группах, но, как мне кажется, нехватка данной метрики восполняется метрикой \"Количество покупок\". "
   ]
  }
 ],
 "metadata": {
  "kernelspec": {
   "display_name": "Python 3",
   "language": "python",
   "name": "python3"
  },
  "language_info": {
   "codemirror_mode": {
    "name": "ipython",
    "version": 3
   },
   "file_extension": ".py",
   "mimetype": "text/x-python",
   "name": "python",
   "nbconvert_exporter": "python",
   "pygments_lexer": "ipython3",
   "version": "3.7.3"
  }
 },
 "nbformat": 4,
 "nbformat_minor": 4
}
