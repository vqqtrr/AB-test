{
 "cells": [
  {
   "cell_type": "code",
   "execution_count": 8,
   "metadata": {},
   "outputs": [],
   "source": [
    "#Импортируем основные библиотеки\n",
    "import pandas as pd\n",
    "import numpy as np\n",
    "\n",
    "%matplotlib inline\n",
    "import matplotlib.pyplot as plt\n",
    "import seaborn as sns\n",
    "import plotly.express as px\n",
    "\n",
    "from scipy import stats\n",
    "from scipy.stats import bootstrap, chi2_contingency\n",
    "import pingouin as pg"
   ]
  },
  {
   "cell_type": "markdown",
   "metadata": {},
   "source": [
    "# Описание задачи:"
   ]
  },
  {
   "cell_type": "markdown",
   "metadata": {},
   "source": [
    "Имеются результаты A/B теста, в котором двум группам пользователей предлагались различные наборы акционных предложений. Известно, что ARPU в тестовой группе выше на 5%, чем в контрольной. При этом в контрольной группе 1928 игроков из 202103 оказались платящими, а в тестовой – 1805 из 202667.\n",
    "\n",
    "Какой набор предложений можно считать лучшим? Какие метрики стоит проанализировать для принятия правильного решения и как?"
   ]
  },
  {
   "cell_type": "code",
   "execution_count": 9,
   "metadata": {},
   "outputs": [],
   "source": [
    "AB_df = pd.read_csv('https://getfile.dokpub.com/yandex/get/https://disk.yandex.ru/d/SOkIsD5A8xlI7Q', sep = ';')"
   ]
  },
  {
   "cell_type": "markdown",
   "metadata": {},
   "source": [
    "# EDA"
   ]
  },
  {
   "cell_type": "code",
   "execution_count": 10,
   "metadata": {},
   "outputs": [
    {
     "name": "stdout",
     "output_type": "stream",
     "text": [
      "количество строк в датафрейме: 404770\n"
     ]
    }
   ],
   "source": [
    "shape = AB_df.shape[0]\n",
    "print(f\"количество строк в датафрейме: {shape}\")"
   ]
  },
  {
   "cell_type": "code",
   "execution_count": 11,
   "metadata": {},
   "outputs": [
    {
     "name": "stdout",
     "output_type": "stream",
     "text": [
      "user_id       int64\n",
      "revenue       int64\n",
      "testgroup    object\n",
      "dtype: object\n"
     ]
    }
   ],
   "source": [
    "#Типы данных\n",
    "dtypes = AB_df.dtypes\n",
    "print(dtypes)"
   ]
  },
  {
   "cell_type": "code",
   "execution_count": 12,
   "metadata": {},
   "outputs": [
    {
     "name": "stdout",
     "output_type": "stream",
     "text": [
      "Число уникальных пользователей: 404770\n"
     ]
    }
   ],
   "source": [
    "#Число уникалтные пользователей\n",
    "unique_users = AB_df.user_id.nunique()\n",
    "print(f\"Число уникальных пользователей: {unique_users}\")"
   ]
  },
  {
   "cell_type": "code",
   "execution_count": 13,
   "metadata": {},
   "outputs": [
    {
     "name": "stdout",
     "output_type": "stream",
     "text": [
      "Число уникальных пользователей в контрольной группе: 202103\n",
      "Число уникальных пользователей в тестовой группе: 202667\n"
     ]
    }
   ],
   "source": [
    "#Посмотрим на число уникальных пользователей в двух группах\n",
    "unique_users_by_group = AB_df\\\n",
    "    .groupby('testgroup')\\\n",
    "    .agg({'user_id' : 'nunique'})\\\n",
    "    .reset_index()\n",
    "print(f\"Число уникальных пользователей в контрольной группе: {unique_users_by_group.user_id[0]}\")\n",
    "print(f\"Число уникальных пользователей в тестовой группе: {unique_users_by_group.user_id[1]}\")"
   ]
  },
  {
   "cell_type": "code",
   "execution_count": 14,
   "metadata": {},
   "outputs": [],
   "source": [
    "#Посмотрим на описательную статистику по группам\n",
    "description = AB_df.groupby('testgroup')['revenue'].describe()"
   ]
  },
  {
   "cell_type": "markdown",
   "metadata": {},
   "source": [
    "# ARPU"
   ]
  },
  {
   "cell_type": "markdown",
   "metadata": {},
   "source": [
    "ARPU = Revenue / Users (чистый доход «поделить» на количество всех пользователей)"
   ]
  },
  {
   "cell_type": "code",
   "execution_count": 15,
   "metadata": {},
   "outputs": [
    {
     "name": "stdout",
     "output_type": "stream",
     "text": [
      "ARPU в контрольной группе: 25.41\n",
      "ARPU в тестовойгруппе: 25.41\n"
     ]
    }
   ],
   "source": [
    "#Подсчет ARPU\n",
    "ARPU = AB_df\\\n",
    "    .groupby('testgroup')\\\n",
    "    .agg({'revenue' : 'mean'})\\\n",
    "    .reset_index().round(2)\n",
    "\n",
    "print(f\"ARPU в контрольной группе: {ARPU.revenue[0]}\")\n",
    "print(f\"ARPU в тестовойгруппе: {ARPU.revenue[0]}\")"
   ]
  },
  {
   "cell_type": "markdown",
   "metadata": {},
   "source": [
    "По условию ARPU в тестовой группе выше на 5%, исходя из расчетов, полученных выше, это, действительно, так."
   ]
  },
  {
   "cell_type": "code",
   "execution_count": 16,
   "metadata": {},
   "outputs": [],
   "source": [
    "#Отберем пользователей в группе А\n",
    "A_group = AB_df.query(\"testgroup == 'a'\")\n",
    "\n",
    "#Отберем пользователей в группе Б\n",
    "B_group = AB_df.query(\"testgroup == 'b'\")"
   ]
  },
  {
   "cell_type": "markdown",
   "metadata": {},
   "source": [
    "Теперь, когда мы получили датафреймы с данными для расчета ARPU в тестовой и контрольной группах, можно приступать к применению статистического теста. В данном случае можно попробовать сравнить средние значения в двух группах с помощью t-критерия Стьюдента для независимых выборок, однако, как мы знаем из теории, у него есть несколько условий:\n",
    "\n",
    "1. Сравниваемые значения не составляют пару коррелирующих значений(выполнено);\n",
    "\n",
    "2. Распределение признаков в каждой выборке соответствует нормальному распределению(тест Шапиро-Уилка), однако некоторые эксперты считают, что данный пункт не обязателем при больших выборках;\n",
    "\n",
    "3. Дисперсии признака в выборках примерно равны (проверяется с помощью критерия Ливиня)"
   ]
  },
  {
   "cell_type": "code",
   "execution_count": 17,
   "metadata": {},
   "outputs": [
    {
     "data": {
      "text/plain": [
       "<seaborn.axisgrid.FacetGrid at 0x7fa2490f4cf8>"
      ]
     },
     "execution_count": 17,
     "metadata": {},
     "output_type": "execute_result"
    },
    {
     "data": {
      "image/png": "[encoded data removed]",
      "text/plain": [
       "<Figure size 360x360 with 1 Axes>"
      ]
     },
     "metadata": {
      "needs_background": "light"
     },
     "output_type": "display_data"
    },
    {
     "data": {
      "image/png": "[encoded data removed]",
      "text/plain": [
       "<Figure size 360x360 with 1 Axes>"
      ]
     },
     "metadata": {
      "needs_background": "light"
     },
     "output_type": "display_data"
    }
   ],
   "source": [
    "#Построим графики распределения выручки со всех пользователей для двух групп\n",
    "sns.displot(A_group['revenue'], bins=10, label='Группа A', color = 'red', alpha = 0.5)\n",
    "sns.displot(B_group['revenue'], bins = 10, label='Группа B', color = 'blue', alpha = 0.5)"
   ]
  },
  {
   "cell_type": "code",
   "execution_count": 18,
   "metadata": {},
   "outputs": [
    {
     "data": {
      "image/png": "[encoded data removed]",
      "text/plain": [
       "<Figure size 720x432 with 1 Axes>"
      ]
     },
     "metadata": {
      "needs_background": "light"
     },
     "output_type": "display_data"
    }
   ],
   "source": [
    "# Построение боксплотов\n",
    "plt.figure(figsize=(10, 6))\n",
    "\n",
    "# Боксплот для A_group\n",
    "plt.boxplot(A_group['revenue'], positions=[1], widths=0.6, vert=False, patch_artist=True, boxprops=dict(facecolor='lightcoral'))\n",
    "# Боксплот для B_group\n",
    "plt.boxplot(B_group['revenue'], positions=[2], widths=0.6, vert=False, patch_artist=True, boxprops=dict(facecolor='lightblue'))\n",
    "\n",
    "plt.yticks([1, 2], ['A Group', 'B Group'])\n",
    "plt.title('Боксплот выручки со всех пользователей по группам')\n",
    "plt.ylabel('Группа')\n",
    "plt.xlabel('Выручка')\n",
    "\n",
    "plt.show()"
   ]
  },
  {
   "cell_type": "markdown",
   "metadata": {},
   "source": [
    "На графиках видно, что распределение сильно отличается от нормального. К тому же при расчете метрики \"ARPU\" мы вынуждены оставить в датафрейме пользователей, которые не платят, то есть у которых revenue = 0. Как видно на графике(боксплот), наибольшее количество пользователей не являются покупателями,то есть нули составляют большую часть выборки.\n",
    "\n",
    "Боксплот показал, что медиана лежит у нуля, поэтому привычный формат графика не вырисовывается. \n",
    "\n",
    "Несмотря на то, что в выборке довольно большое количество наблюдений, и можно было бы использовать **t-test**, в данном проекте я бы этого не делал, а отдал предпочтение другому методу, о котором речь пойдет ниже. В статистике рекомендуется применять **Mann-Whitney U test** для анализа данных в такой ситуации, однако эксперты рекомендуют применять его с осторожностью, так как он не проверяет средние значения в двух выборках.\n",
    "\n",
    "Как мне кажется, оптимальным вариантом в этом случае будет **bootstap**, однако в случае ARPU есть одно большое ограничение в виде размера датафрейма. К примеру, в группе \"А\" порядка  202103 заказов, и если мы будем ресемплить 10000 раз revenue, то это займет крайне большое количество времени(проверял). В таком случае мы можем снизить количество выборок для скорости вычисления, но это, разумеется, скажется на точности теста. \n",
    "\n",
    "В итоге я бы использовал bootstrap с 500-1000 выборками. Ну и для того, чтобы точно убедиться в ненормальности распределения переменной, проверим с помощью теста Шапиро-Уилка"
   ]
  },
  {
   "cell_type": "code",
   "execution_count": 19,
   "metadata": {},
   "outputs": [
    {
     "name": "stdout",
     "output_type": "stream",
     "text": [
      "Распределение отличается от нормального в контрольной группе.\n",
      "Распределение отличается от нормального в тестовой группе.\n"
     ]
    },
    {
     "name": "stderr",
     "output_type": "stream",
     "text": [
      "/opt/tljh/user/lib/python3.7/site-packages/scipy/stats/morestats.py:1760: UserWarning: p-value may not be accurate for N > 5000.\n",
      "  warnings.warn(\"p-value may not be accurate for N > 5000.\")\n"
     ]
    }
   ],
   "source": [
    "#P-value < 0.05 следовательно у нас есть достаточно доказательств, чтобы сказать, что данные выборки не получены из нормального распределения.\n",
    "statistic_control, pvalue_control = stats.shapiro(A_group['revenue'])\n",
    "statistic_test, pvalue_test = stats.shapiro(B_group['revenue'])\n",
    "\n",
    "if pvalue_control < 0.05:\n",
    "    print(\"Распределение отличается от нормального в контрольной группе.\")\n",
    "else:\n",
    "    print(\"Распределение соотвествует нормальному в контрольной группе\") \n",
    "    \n",
    "if pvalue_test < 0.05:\n",
    "    print(\"Распределение отличается от нормального в тестовой группе.\")\n",
    "else:\n",
    "    print(\"Распределение соотвествует нормальному в тестовой группе\") "
   ]
  },
  {
   "cell_type": "markdown",
   "metadata": {},
   "source": [
    "Далее сравним доверительные интервалы среднего значения двух бутстрапированных выборок"
   ]
  },
  {
   "cell_type": "markdown",
   "metadata": {},
   "source": [
    "Выдвинем следюущие гипотезы: \n",
    "\n",
    "​\n",
    "$H_0$\n",
    "​\n",
    "  – ноль попадает в доверительный интервал разности ARPU(значимые различия не обнаружены)\n",
    "\n",
    "$H_1$\n",
    "​\n",
    "  – ноль не попадает в доверительный интервал разности ARPU(значимые различия обнаружены)\n",
    "​"
   ]
  },
  {
   "cell_type": "code",
   "execution_count": 20,
   "metadata": {},
   "outputs": [
    {
     "name": "stdout",
     "output_type": "stream",
     "text": [
      "Доверительный интервал разности ARPU в двух группах: (-4.598621879086083, 6.6873410465024685)\n",
      "Ноль попадает в 95% доверительный интервал расности ARPU: нет статистически значимых различий между группами.\n"
     ]
    }
   ],
   "source": [
    "#Создадим пустой список для хранения разности средних\n",
    "mean_diff = []\n",
    "\n",
    "#бутстрэп\n",
    "n_resamples = 1000\n",
    "for i in range(n_resamples):\n",
    "    \n",
    "    # Случайная выборка с возвращением для контрольной группы\n",
    "    sample_data_control = A_group['revenue'].sample(frac=0.5, replace=True)\n",
    "    \n",
    "    # Случайная выборка с возвращением для экспериментальной группы\n",
    "    sample_data_exp = B_group['revenue'].sample(frac=0.5, replace=True)\n",
    "    \n",
    "    # Вычисляем разность средних\n",
    "    sample_mean_diff = sample_data_exp.mean() - sample_data_control.mean()\n",
    "    mean_diff.append(sample_mean_diff)\n",
    "\n",
    "mean_diff = np.array(mean_diff)\n",
    "\n",
    "# Вычисляем доверительный интервал\n",
    "lower_bound = np.percentile(mean_diff, 2.5)  # 2.5-й перцентиль\n",
    "upper_bound = np.percentile(mean_diff, 97.5)  # 97.5-й перцентиль\n",
    "\n",
    "print(f\"Доверительный интервал разности ARPU в двух группах: ({lower_bound}, {upper_bound})\")\n",
    "\n",
    "if lower_bound <= 0 <= upper_bound:\n",
    "    print(\"Ноль попадает в 95% доверительный интервал расности ARPU: нет статистически значимых различий между группами.\")\n",
    "else:\n",
    "    print(\"Ноль не попадает в 95% доверительный интервал: есть статистически значимые различия между группами.\")"
   ]
  },
  {
   "cell_type": "code",
   "execution_count": 21,
   "metadata": {},
   "outputs": [
    {
     "data": {
      "image/png": "[encoded data removed]",
      "text/plain": [
       "<Figure size 720x432 with 1 Axes>"
      ]
     },
     "metadata": {
      "needs_background": "light"
     },
     "output_type": "display_data"
    }
   ],
   "source": [
    "#Построим график для наглядности\n",
    "mean_diff = np.array(mean_diff)\n",
    "\n",
    "lower_bound = np.percentile(mean_diff, 2.5)\n",
    "upper_bound = np.percentile(mean_diff, 97.5)\n",
    "\n",
    "plt.figure(figsize=(10, 6))\n",
    "plt.hist(mean_diff, bins=30, edgecolor='k', alpha=0.7)\n",
    "plt.axvline(lower_bound, color='red', linestyle='--', linewidth=2, label=f'Нижняя граница 95% доверительного интервала: {lower_bound:.2f}')\n",
    "plt.axvline(upper_bound, color='green', linestyle='--', linewidth=2, label=f'Верхняя граница 95% доверительного интервала: {upper_bound:.2f}')\n",
    "plt.axvline(0, color='blue', linestyle='-', linewidth=2, label='Ноль')\n",
    "plt.title('Бутстрэп распределение разности ARPU')\n",
    "plt.xlabel('Разность ARPU')\n",
    "plt.ylabel('Частота')\n",
    "plt.legend()\n",
    "plt.show()"
   ]
  },
  {
   "cell_type": "markdown",
   "metadata": {},
   "source": [
    "Расчитанный 95% доверительный интервал для разности ARPU в двух группах показал, что ноль попадает в него,а следовательно у нас достаточно оснований для того, чтобы принять нулевую гипотзу(H0) и сказать, что  в генеральной совокупности в контрольной и тестовой группах ARPU не различаются "
   ]
  },
  {
   "cell_type": "markdown",
   "metadata": {},
   "source": [
    "# ARPPU"
   ]
  },
  {
   "cell_type": "markdown",
   "metadata": {},
   "source": [
    "Рассмотрим следующую метрику: **ARPPU**\n",
    "\n",
    "ARPPU = Revenue / Paying Users (чистый доход «поделить» на количество платящих пользователей)"
   ]
  },
  {
   "cell_type": "markdown",
   "metadata": {},
   "source": [
    "Расчет этой метрики в датафрейме не потрбуется, ведь фактически можно отобрать заказы платящих пользователей и посчитать по ним сумму, именно таким способом можно получить ARPPU"
   ]
  },
  {
   "cell_type": "markdown",
   "metadata": {},
   "source": [
    "Алгоритм действий будет идентчиен метрики ARPU: расчитаем 95% доверительный интервал разности ARPPU и посмотрим, попадает ли ноль в этот доверительный интервал, но перед этим снова попробуем проверить на нормальность выборки из платящих пользователей"
   ]
  },
  {
   "cell_type": "markdown",
   "metadata": {},
   "source": [
    "Начнем с проверки на нормальность:"
   ]
  },
  {
   "cell_type": "code",
   "execution_count": 22,
   "metadata": {},
   "outputs": [],
   "source": [
    "#Также немаловажным при расчете данной метрики избавиться от неплатящих игроков\n",
    "A_group_2 = A_group.query(\"revenue > 0\")\n",
    "B_group_2 = B_group.query(\"revenue > 0\")"
   ]
  },
  {
   "cell_type": "code",
   "execution_count": 23,
   "metadata": {},
   "outputs": [
    {
     "data": {
      "text/plain": [
       "<seaborn.axisgrid.FacetGrid at 0x7fa21f4d3ba8>"
      ]
     },
     "execution_count": 23,
     "metadata": {},
     "output_type": "execute_result"
    },
    {
     "data": {
      "image/png": "[encoded data removed]",
      "text/plain": [
       "<Figure size 360x360 with 1 Axes>"
      ]
     },
     "metadata": {
      "needs_background": "light"
     },
     "output_type": "display_data"
    },
    {
     "data": {
      "image/png": "[encoded data removed]",
      "text/plain": [
       "<Figure size 360x360 with 1 Axes>"
      ]
     },
     "metadata": {
      "needs_background": "light"
     },
     "output_type": "display_data"
    }
   ],
   "source": [
    "#Построим графики распределения выручки с платчщих пользователей в двух группах\n",
    "sns.displot(A_group_2['revenue'], bins=10, label='Группа A', color = 'red', alpha = 0.5)\n",
    "sns.displot(B_group_2['revenue'], bins = 10, label='Группа B', color = 'blue', alpha = 0.5)"
   ]
  },
  {
   "cell_type": "markdown",
   "metadata": {},
   "source": [
    "Собственно как и в случае с ARPU игроки в первой группе совершают покупки на меньшую сумму(за исключением нескольких крупных покупок), а вот в тестовой наоборот - сумма, как правило, выше, именно поэтому за счет крупных покупок у ряда пользователей в контрольной группе, среднее значение находится приблизительно на одном уровне в выборках. \n",
    "\n",
    "Если мы посмотрим на данные из группы \"A\" чуть ближе,то сможем выделить кластеры на основе выручки, которыую принесли пользователи. Как и было сказано ранее, в контрольной группе есть пользователи, которые совершают небольшие покупки, а есть пользователи, которые делают покупки на большие суммы. В дальнейшем можно было бы ознакомиться с данным вопросом подробнее и попытаться выделить эти кластеры."
   ]
  },
  {
   "cell_type": "code",
   "execution_count": 24,
   "metadata": {},
   "outputs": [
    {
     "data": {
      "image/png": "[encoded data removed]",
      "text/plain": [
       "<Figure size 720x432 with 1 Axes>"
      ]
     },
     "metadata": {
      "needs_background": "light"
     },
     "output_type": "display_data"
    }
   ],
   "source": [
    "# Построение боксплотов\n",
    "plt.figure(figsize=(10, 6))\n",
    "\n",
    "# Боксплот для A_group\n",
    "plt.boxplot(A_group_2['revenue'], positions=[1], widths=0.6, vert=False, patch_artist=True, boxprops=dict(facecolor='lightcoral'))\n",
    "# Боксплот для B_group\n",
    "plt.boxplot(B_group_2['revenue'], positions=[2], widths=0.6, vert=False, patch_artist=True, boxprops=dict(facecolor='lightblue'))\n",
    "\n",
    "# Настройка осей и заголовков\n",
    "plt.yticks([1, 2], ['A Group', 'B Group'])\n",
    "plt.title('Боксплот выручки с платящих пользователей по группам')\n",
    "plt.ylabel('Группа')\n",
    "plt.xlabel('Выручка с платящих пользователей')\n",
    "\n",
    "plt.show()"
   ]
  },
  {
   "cell_type": "markdown",
   "metadata": {},
   "source": [
    "Ситуация схожа с метрикой ARPU: в двух группах распределние переменной сильно отличется от нормального, медиана в тестовой группе будет лежать в диапазоне 1,7. Также дополнительно проверим результат с помощью статистических тестов(Колмагорова-Смирнова). "
   ]
  },
  {
   "cell_type": "code",
   "execution_count": 25,
   "metadata": {},
   "outputs": [
    {
     "name": "stdout",
     "output_type": "stream",
     "text": [
      "Распределение отличается от нормального в контрольной группе.\n",
      "Распределение отличается от нормального в тестовой группе.\n"
     ]
    }
   ],
   "source": [
    "statistic_cotrol, pvalue_control = stats.kstest(A_group_2['revenue'], 'norm', args=(np.mean(A_group_2['revenue']), np.std(A_group_2['revenue']))) \n",
    "statistic_test, pvalue_test = stats.kstest(B_group_2['revenue'], 'norm', args=(np.mean(B_group_2['revenue']), np.std(B_group_2['revenue'])))\n",
    "\n",
    "if pvalue_control < 0.05:\n",
    "    print(\"Распределение отличается от нормального в контрольной группе.\")\n",
    "else:\n",
    "    print(\"Распределение соотвествует нормальному в контрольной группе\") \n",
    "    \n",
    "if pvalue_test < 0.05:\n",
    "    print(\"Распределение отличается от нормального в тестовой группе.\")\n",
    "else:\n",
    "    print(\"Распределение соотвествует нормальному в тестовой группе\")   "
   ]
  },
  {
   "cell_type": "markdown",
   "metadata": {},
   "source": [
    "В двух группах p-value оказался меньше порогового значения - 0.05, что говорит о том, что переменные распределены ненормально. В таком случае алгоритм будет идентичным прошлой метрике: воспользуемся **bootstrap**, чтобы сделать вывод о различиях. Перед тем, как приступать к тестам, посмотрим, как выглядят средние значения метрик в двух выборках(группах)"
   ]
  },
  {
   "cell_type": "code",
   "execution_count": 26,
   "metadata": {},
   "outputs": [
    {
     "name": "stdout",
     "output_type": "stream",
     "text": [
      "Среднее значение ARPPU в контрольной группе 2663.9984439834025\n",
      "Среднее значение ARPPU в тестовой группе 3003.6581717451522\n"
     ]
    }
   ],
   "source": [
    "ARPPU_control = A_group_2['revenue'].sum()/1928\n",
    "ARPPU_test = B_group_2['revenue'].sum()/1805\n",
    "\n",
    "print(f\"Среднее значение ARPPU в контрольной группе {ARPPU_control}\")\n",
    "print(f\"Среднее значение ARPPU в тестовой группе {ARPPU_test}\")"
   ]
  },
  {
   "cell_type": "markdown",
   "metadata": {},
   "source": [
    "Выдвинем следюущие гипотезы: \n",
    "\n",
    "​\n",
    "$H_0$\n",
    "​\n",
    "  – ноль попадет в доверительный интервал разности ARPPU в двух группах(различия не обнаружены)\n",
    "\n",
    "$H_1$\n",
    "​\n",
    "  – ноль не попадает в доверительный интервал разности ARPPU в двух группах(различия обнаружены)\n",
    "​"
   ]
  },
  {
   "cell_type": "code",
   "execution_count": 27,
   "metadata": {},
   "outputs": [
    {
     "name": "stdout",
     "output_type": "stream",
     "text": [
      "95% Доверительный интервал разности средних: (-74.55006784404779, 741.1184977687032)\n",
      "Ноль попадает в 95% доверительный интервал: нет статистически значимых различий между группами.\n"
     ]
    }
   ],
   "source": [
    "#Создадим пустой список для хранения разности средних\n",
    "mean_diff = []\n",
    "\n",
    "#бутстрэп\n",
    "n_resamples = 10000\n",
    "for i in range(n_resamples):\n",
    "    \n",
    "    # Случайная выборка с возвращением для контрольной группы\n",
    "    sample_data_control = A_group_2['revenue'].sample(frac=1, replace=True)\n",
    "    \n",
    "    # Случайная выборка с возвращением для экспериментальной группы\n",
    "    sample_data_test = B_group_2['revenue'].sample(frac=1, replace=True)\n",
    "    \n",
    "    # Вычисляем разность средних\n",
    "    sample_mean_diff = sample_data_test.mean() - sample_data_control.mean()\n",
    "    mean_diff.append(sample_mean_diff)\n",
    "\n",
    "mean_diff = np.array(mean_diff)\n",
    "\n",
    "# Вычисляем доверительный интервал\n",
    "lower_bound = np.percentile(mean_diff, 2.5)  # 2.5-й перцентиль\n",
    "upper_bound = np.percentile(mean_diff, 97.5)  # 97.5-й перцентиль\n",
    "\n",
    "print(f\"95% Доверительный интервал разности средних: ({lower_bound}, {upper_bound})\")\n",
    "\n",
    "if lower_bound <= 0 <= upper_bound:\n",
    "    print(\"Ноль попадает в 95% доверительный интервал: нет статистически значимых различий между группами.\")\n",
    "else:\n",
    "    print(\"Ноль не попадает 95% в доверительный интервал: есть статистически значимые различия между группами.\")\n"
   ]
  },
  {
   "cell_type": "code",
   "execution_count": 28,
   "metadata": {},
   "outputs": [
    {
     "data": {
      "image/png": "[encoded data removed]",
      "text/plain": [
       "<Figure size 720x432 with 1 Axes>"
      ]
     },
     "metadata": {
      "needs_background": "light"
     },
     "output_type": "display_data"
    }
   ],
   "source": [
    "#Построим график для визуализации разности \n",
    "mean_diff = np.array(mean_diff)\n",
    "\n",
    "lower_bound = np.percentile(mean_diff, 2.5)\n",
    "upper_bound = np.percentile(mean_diff, 97.5)\n",
    "\n",
    "plt.figure(figsize=(10, 6))\n",
    "plt.hist(mean_diff, bins=30, edgecolor='k', alpha=0.7)\n",
    "plt.axvline(lower_bound, color='red', linestyle='--', linewidth=2, label=f'Нижняя граница: {lower_bound:.2f}')\n",
    "plt.axvline(upper_bound, color='green', linestyle='--', linewidth=2, label=f'Верхняя граница: {upper_bound:.2f}')\n",
    "plt.axvline(0, color='blue', linestyle='-', linewidth=2, label='Ноль')\n",
    "plt.title('Бутстрэп распределение разности ARPPU')\n",
    "plt.xlabel('Разность ARPPU')\n",
    "plt.ylabel('Частота')\n",
    "plt.legend()\n",
    "plt.show()"
   ]
  },
  {
   "cell_type": "markdown",
   "metadata": {},
   "source": [
    "# Конверсия в покупку"
   ]
  },
  {
   "cell_type": "markdown",
   "metadata": {},
   "source": [
    "Далее рассмотрим метрику \"Конверсия в покупку\". В условии дано, что в контрольной группе 1928 игроков из 202103 оказались платящими, а в тестовой – 1805 из 202667. Для того, чтобы сравнить две группы между собой и определить, дейтсвительно ли в генеральной совокупности сохраняется такое соотношение, воспользуется анализом таблиц сопряженности, а именно критерием хи-квадрат Пирсона. Выдвинем следюущие гипотезы:"
   ]
  },
  {
   "cell_type": "markdown",
   "metadata": {},
   "source": [
    "\n",
    "- $H_0$: В генеральной совокупности нет значимых различий между конверсиями в покупку в тестовой и контрольной группах\n",
    "\n",
    "\n",
    "- $H_1$: В генеральной совокупности значимые различия между конверсиями в покупку в тестовой и контрольной группах есть\n"
   ]
  },
  {
   "cell_type": "markdown",
   "metadata": {},
   "source": [
    "План действий такой: создадим пустой лист, который заполним значениями \"buying\" и \"not buying\", где \"buying\" = revenue>0, а \"not buying\" = 0, соотвественно. Данный способ облегчит создание таблицы сопряженности, которая нужна для анализа"
   ]
  },
  {
   "cell_type": "code",
   "execution_count": 29,
   "metadata": {},
   "outputs": [],
   "source": [
    "#Создадим пустой лист\n",
    "lst = []\n",
    "\n",
    "#Цикл для отбора нужных строк\n",
    "for i in AB_df['revenue']:\n",
    "    if i > 0:\n",
    "        lst.append('buying')\n",
    "    else:\n",
    "        lst.append('not buying')\n",
    "\n",
    "AB_df['status'] = lst"
   ]
  },
  {
   "cell_type": "code",
   "execution_count": 30,
   "metadata": {},
   "outputs": [
    {
     "data": {
      "text/html": [
       "<div>\n",
       "<style scoped>\n",
       "    .dataframe tbody tr th:only-of-type {\n",
       "        vertical-align: middle;\n",
       "    }\n",
       "\n",
       "    .dataframe tbody tr th {\n",
       "        vertical-align: top;\n",
       "    }\n",
       "\n",
       "    .dataframe thead th {\n",
       "        text-align: right;\n",
       "    }\n",
       "</style>\n",
       "<table border=\"1\" class=\"dataframe\">\n",
       "  <thead>\n",
       "    <tr style=\"text-align: right;\">\n",
       "      <th>testgroup</th>\n",
       "      <th>a</th>\n",
       "      <th>b</th>\n",
       "    </tr>\n",
       "    <tr>\n",
       "      <th>status</th>\n",
       "      <th></th>\n",
       "      <th></th>\n",
       "    </tr>\n",
       "  </thead>\n",
       "  <tbody>\n",
       "    <tr>\n",
       "      <th>buying</th>\n",
       "      <td>1928</td>\n",
       "      <td>1805</td>\n",
       "    </tr>\n",
       "    <tr>\n",
       "      <th>not buying</th>\n",
       "      <td>200175</td>\n",
       "      <td>200862</td>\n",
       "    </tr>\n",
       "  </tbody>\n",
       "</table>\n",
       "</div>"
      ],
      "text/plain": [
       "testgroup        a       b\n",
       "status                    \n",
       "buying        1928    1805\n",
       "not buying  200175  200862"
      ]
     },
     "execution_count": 30,
     "metadata": {},
     "output_type": "execute_result"
    }
   ],
   "source": [
    "#Создадим таблицу сопряженности для наглядности \n",
    "pd.crosstab(AB_df['status'], AB_df['testgroup'])"
   ]
  },
  {
   "cell_type": "code",
   "execution_count": 31,
   "metadata": {},
   "outputs": [
    {
     "name": "stdout",
     "output_type": "stream",
     "text": [
      "Конверсия в покупку в контрольной группе: 0.009539690157988749\n",
      "Конверсия в покупку в тестовой группе: 0.008906235351586593\n"
     ]
    }
   ],
   "source": [
    "#Конверсии в покупку в наших выборках\n",
    "A_group = (1928 /(1928+200175))\n",
    "B_group = (1805/(1805+200862))\n",
    "print(f\"Конверсия в покупку в контрольной группе: {A_group}\")\n",
    "print(f\"Конверсия в покупку в тестовой группе: {B_group}\")"
   ]
  },
  {
   "cell_type": "code",
   "execution_count": 32,
   "metadata": {},
   "outputs": [
    {
     "name": "stdout",
     "output_type": "stream",
     "text": [
      "4.374729521260405 0.03647561892312613 1\n"
     ]
    }
   ],
   "source": [
    "#Применим хи-квадрат Пирсона к получившийся сводной таблице\n",
    "stat, p, dof, expected = chi2_contingency(pd.crosstab(AB_df.status, AB_df.testgroup))\n",
    "print(stat, p, dof)"
   ]
  },
  {
   "cell_type": "code",
   "execution_count": 33,
   "metadata": {},
   "outputs": [
    {
     "name": "stdout",
     "output_type": "stream",
     "text": [
      "Отклоняем H0, В генеральной совокупности значимые различия между конверсиями в покупку в тестовой и контрольной группах есть\n"
     ]
    }
   ],
   "source": [
    "prob = 0.95\n",
    "alpha = 1.0 - prob\n",
    "if p < alpha:\n",
    "    print('Отклоняем H0, В генеральной совокупности значимые различия между конверсиями в покупку в тестовой и контрольной группах есть')\n",
    "else:\n",
    "    print('Не отклоняем H0, В генеральной совокупности нет значимых различий между конверсиями в покупку в тестовой и контрольной группах')"
   ]
  },
  {
   "cell_type": "markdown",
   "metadata": {},
   "source": [
    "Таким образом, мы получили результат p-value < 0.05, а также полученное значение Хи-квадрат(4.4) > критического(3.84), следовательно мы можем отклонить нулевую гипотезу о равенстве конверсий в покупку в тестовой и контрольной группах. Оказалось, что в контрольной группе игроки конвертируются в покупку лучше, чем в тестовой. \n",
    "\n",
    "В итоге на данном этапе мы имеем довольно сомнительный результат: метрки ARPU и ARPPU не прокрасились, в то время как метрика \"количество покупок\" показала, что в контрльной группе платящих пользователей больше, следовательно набор акционных предложений для контрольной группы оказался успешнее. \n",
    "\n",
    "Дополнительно можно было бы рассмотреть момент, на который я указывал выше - анализ кластеров в контрольной группе. Воспользуемся подходом, который обычно используется при RFM-сегментации: определим кластеры на основе квантилей."
   ]
  },
  {
   "cell_type": "markdown",
   "metadata": {},
   "source": [
    "# Кластеры"
   ]
  },
  {
   "cell_type": "code",
   "execution_count": 34,
   "metadata": {},
   "outputs": [
    {
     "ename": "AttributeError",
     "evalue": "'float' object has no attribute 'query'",
     "output_type": "error",
     "traceback": [
      "\u001b[0;31m---------------------------------------------------------------------------\u001b[0m",
      "\u001b[0;31mAttributeError\u001b[0m                            Traceback (most recent call last)",
      "\u001b[0;32m<ipython-input-34-1a9c23e124df>\u001b[0m in \u001b[0;36m<module>\u001b[0;34m\u001b[0m\n\u001b[0;32m----> 1\u001b[0;31m \u001b[0mquantiles\u001b[0m\u001b[0;34m=\u001b[0m\u001b[0mA_group\u001b[0m\u001b[0;34m.\u001b[0m\u001b[0mquery\u001b[0m\u001b[0;34m(\u001b[0m\u001b[0;34m\"revenue !=0\"\u001b[0m\u001b[0;34m)\u001b[0m\u001b[0;34m[\u001b[0m\u001b[0;34m'revenue'\u001b[0m\u001b[0;34m]\u001b[0m\u001b[0;34m.\u001b[0m\u001b[0mquantile\u001b[0m\u001b[0;34m(\u001b[0m\u001b[0mq\u001b[0m \u001b[0;34m=\u001b[0m \u001b[0;34m[\u001b[0m\u001b[0;36m0.25\u001b[0m\u001b[0;34m,\u001b[0m \u001b[0;36m0.5\u001b[0m\u001b[0;34m,\u001b[0m \u001b[0;36m0.75\u001b[0m\u001b[0;34m]\u001b[0m\u001b[0;34m)\u001b[0m\u001b[0;34m\u001b[0m\u001b[0;34m\u001b[0m\u001b[0m\n\u001b[0m\u001b[1;32m      2\u001b[0m \u001b[0mprint\u001b[0m\u001b[0;34m(\u001b[0m\u001b[0mquantiles\u001b[0m\u001b[0;34m)\u001b[0m\u001b[0;34m\u001b[0m\u001b[0;34m\u001b[0m\u001b[0m\n",
      "\u001b[0;31mAttributeError\u001b[0m: 'float' object has no attribute 'query'"
     ]
    }
   ],
   "source": [
    "quantiles=A_group.query(\"revenue !=0\")['revenue'].quantile(q = [0.25, 0.5, 0.75])\n",
    "print(quantiles)"
   ]
  },
  {
   "cell_type": "markdown",
   "metadata": {},
   "source": [
    "В итоге мы получили значения, которые отражают квантили распредления выручки в группе \"А\". Однако квантили не полностью отражают реальное положение дел: как мы помним из графиков, у нас были значения, которые сильно выбиваются из общей массы - выбросы, где чеки пользователей первышали 30000. "
   ]
  },
  {
   "cell_type": "code",
   "execution_count": null,
   "metadata": {},
   "outputs": [],
   "source": [
    "#Снова создадим даатфрейм с платящими пользователями\n",
    "rev_clusters = A_group.query(\"revenue !=0\")"
   ]
  },
  {
   "cell_type": "code",
   "execution_count": null,
   "metadata": {},
   "outputs": [],
   "source": [
    "#Построим график\n",
    "sns.displot(rev_clusters['revenue'], bins = 10, label='Группа B', color = 'r', alpha = 0.5)"
   ]
  },
  {
   "cell_type": "markdown",
   "metadata": {},
   "source": [
    "Собственно, мы видим, что отчетливо выделяются два кластера на графике, однако значения, которые меньше 30000 тоже можно поделить на небольшие кластеры. Если мы посмотрем на список этих значений подробнее, то там можно встретить значения от 200 до 400, и, учитывая квантили, которые были использованы выше, можно выделить следующие кластеры по возрастанию выручки: \n",
    "\n",
    "1. кластер:  200-257\n",
    "\n",
    "2. кластер: 257-311\n",
    "\n",
    "3. кластер: 311-361\n",
    "\n",
    "4. кластер 361-400\n",
    "\n",
    "5. кластер: больше 1000"
   ]
  },
  {
   "cell_type": "code",
   "execution_count": null,
   "metadata": {},
   "outputs": [],
   "source": [
    "def cluster_num(x):\n",
    "    if x >= 200 and x <= 257:\n",
    "        return 1\n",
    "    elif x > 257 and x <= 311:\n",
    "        return 2\n",
    "    elif x > 311 and x <= 361:\n",
    "        return 3\n",
    "    elif x > 361 and x <= 400:\n",
    "        return 4\n",
    "    else:\n",
    "        return 5"
   ]
  },
  {
   "cell_type": "code",
   "execution_count": null,
   "metadata": {},
   "outputs": [],
   "source": [
    "rev_clusters['cluster'] = rev_clusters['revenue'].apply(lambda x: cluster_num(x))"
   ]
  },
  {
   "cell_type": "code",
   "execution_count": null,
   "metadata": {},
   "outputs": [],
   "source": [
    "#Итоговый вариант таблицы\n",
    "rev_clusters.head()"
   ]
  },
  {
   "cell_type": "markdown",
   "metadata": {},
   "source": [
    "В итоге мы получили кластеры, которые деляют платящих игроков по выручке, которую они принесли продукту. Для выполнения задания данное действие не требовалось, однако в теории заказчику может потребоваться такая информация о пользователях в будущем."
   ]
  },
  {
   "cell_type": "markdown",
   "metadata": {},
   "source": [
    "# Выводы"
   ]
  },
  {
   "cell_type": "markdown",
   "metadata": {},
   "source": [
    "К сожалению, набор акционных предложений для тестовой группы не может быть использован в продакшене. Гипотезы о различиях метрик ARPU и ARPPU в контрольной и тестовых группах не подствердились, однако анализ метрики \"Конверсия в покупку\" подтвердил статистически значимые различия в генеральной совокупности между группами, однако не в пользу тестовой: в контрольной группе рользователи конвертируются лучше. Дополнительно я разделил пользователей в контрольной группе на кластеры, что в теории могло бы быть полезно заказчику."
   ]
  }
 ],
 "metadata": {
  "kernelspec": {
   "display_name": "Python 3",
   "language": "python",
   "name": "python3"
  },
  "language_info": {
   "codemirror_mode": {
    "name": "ipython",
    "version": 3
   },
   "file_extension": ".py",
   "mimetype": "text/x-python",
   "name": "python",
   "nbconvert_exporter": "python",
   "pygments_lexer": "ipython3",
   "version": "3.7.3"
  }
 },
 "nbformat": 4,
 "nbformat_minor": 4
}
